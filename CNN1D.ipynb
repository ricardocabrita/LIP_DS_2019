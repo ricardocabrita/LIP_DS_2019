{
 "cells": [
  {
   "cell_type": "code",
   "execution_count": 1,
   "metadata": {},
   "outputs": [
    {
     "name": "stdout",
     "output_type": "stream",
     "text": [
      "Requirement already satisfied: seaborn in /usr/local/lib/python3.5/site-packages\n",
      "Requirement already satisfied: pandas>=0.15.2 in /usr/local/lib/python3.5/site-packages (from seaborn)\n",
      "Requirement already satisfied: numpy>=1.9.3 in /usr/local/lib/python3.5/site-packages (from seaborn)\n",
      "Requirement already satisfied: scipy>=0.14.0 in /usr/local/lib/python3.5/site-packages (from seaborn)\n",
      "Requirement already satisfied: matplotlib>=1.4.3 in /usr/local/lib/python3.5/site-packages (from seaborn)\n",
      "Requirement already satisfied: pytz>=2011k in /usr/local/lib/python3.5/site-packages (from pandas>=0.15.2->seaborn)\n",
      "Requirement already satisfied: python-dateutil>=2.5.0 in /usr/local/lib/python3.5/site-packages (from pandas>=0.15.2->seaborn)\n",
      "Requirement already satisfied: kiwisolver>=1.0.1 in /usr/local/lib/python3.5/site-packages (from matplotlib>=1.4.3->seaborn)\n",
      "Requirement already satisfied: six>=1.10 in /usr/local/lib/python3.5/site-packages (from matplotlib>=1.4.3->seaborn)\n",
      "Requirement already satisfied: pyparsing!=2.0.4,!=2.1.2,!=2.1.6,>=2.0.1 in /usr/local/lib/python3.5/site-packages (from matplotlib>=1.4.3->seaborn)\n",
      "Requirement already satisfied: cycler>=0.10 in /usr/local/lib/python3.5/site-packages (from matplotlib>=1.4.3->seaborn)\n",
      "Requirement already satisfied: setuptools in /usr/local/lib/python3.5/site-packages (from kiwisolver>=1.0.1->matplotlib>=1.4.3->seaborn)\n",
      "\u001b[33mYou are using pip version 9.0.3, however version 19.0.3 is available.\n",
      "You should consider upgrading via the 'pip install --upgrade pip' command.\u001b[0m\n"
     ]
    }
   ],
   "source": [
    "%matplotlib inline\n",
    "!pip install seaborn"
   ]
  },
  {
   "cell_type": "code",
   "execution_count": 2,
   "metadata": {},
   "outputs": [
    {
     "name": "stderr",
     "output_type": "stream",
     "text": [
      "Using TensorFlow backend.\n"
     ]
    }
   ],
   "source": [
    "# Model architecture\n",
    "from keras.layers import Dense, Dropout, Conv1D, MaxPool1D, Flatten, SpatialDropout1D\n",
    "from keras.models import Sequential\n",
    "from keras import optimizers\n",
    "from keras.callbacks import Callback\n",
    "\n",
    "# General packages\n",
    "import numpy as np\n",
    "import os\n",
    "import h5py\n",
    "import seaborn as sns\n",
    "import matplotlib.pyplot as plt\n",
    "import pandas as pd\n",
    "\n",
    "# Data preparation and validation packages\n",
    "from sklearn.preprocessing import LabelEncoder\n",
    "from sklearn.preprocessing import OneHotEncoder\n",
    "from sklearn import preprocessing\n",
    "from sklearn.metrics import confusion_matrix\n",
    "from sklearn.model_selection import train_test_split\n",
    "\n",
    "# Jupyter interactive plotting\n",
    "from IPython.display import clear_output\n",
    "\n",
    "from components.dataToolkit import dataToolkit, LABEL_MAP"
   ]
  },
  {
   "cell_type": "code",
   "execution_count": 3,
   "metadata": {},
   "outputs": [],
   "source": [
    "#call back functions\n",
    "# real time plotting\n",
    "class PlotLosses(Callback):\n",
    "    def on_train_begin(self, logs={}):\n",
    "        self.i = 0\n",
    "        self.x = []\n",
    "        self.losses = []\n",
    "        self.accuracies = []\n",
    "        self.val_losses = []\n",
    "        self.val_accuracies = []\n",
    "        \n",
    "        self.fig = plt.figure()\n",
    "        \n",
    "        self.logs = []\n",
    "\n",
    "    def on_epoch_end(self, epoch, logs={}):\n",
    "        \n",
    "        self.logs.append(logs)\n",
    "        self.x.append(self.i)\n",
    "        self.losses.append(logs.get('loss'))\n",
    "        self.accuracies.append(logs.get('acc'))\n",
    "        self.val_losses.append(logs.get('val_loss'))\n",
    "        self.val_accuracies.append(logs.get('val_acc'))\n",
    "        self.i += 1\n",
    "        \n",
    "        clear_output(wait=True)\n",
    "        plt.plot(self.x, self.losses, label=\"loss\")\n",
    "        plt.plot(self.x, self.accuracies, label=\"accuracy\")\n",
    "        plt.plot(self.x, self.val_losses, label=\"val_loss\")\n",
    "        plt.plot(self.x, self.val_accuracies, label=\"val_accuracy\")\n",
    "        plt.legend(loc='center left', bbox_to_anchor=(1, 0.5))\n",
    "        plt.show();\n",
    "        \n",
    "plot_losses = PlotLosses()"
   ]
  },
  {
   "cell_type": "code",
   "execution_count": 4,
   "metadata": {},
   "outputs": [],
   "source": [
    "dtk = dataToolkit()\n",
    "data = dtk.getAllTimeSeries()\n",
    "dtk.close()"
   ]
  },
  {
   "cell_type": "code",
   "execution_count": 5,
   "metadata": {},
   "outputs": [],
   "source": [
    "#preprocess data stuff\n",
    "rescaled_data = preprocessing.minmax_scale(data.T).T\n",
    "rescaled_data = np.reshape(rescaled_data, (rescaled_data.shape[0], rescaled_data.shape[1], 1))"
   ]
  },
  {
   "cell_type": "code",
   "execution_count": 6,
   "metadata": {},
   "outputs": [
    {
     "name": "stdout",
     "output_type": "stream",
     "text": [
      "['Low_Frequency_Lines', 'None_of_the_Above', 'Blip', 'Tomte', '1400Ripples', 'Paired_Doves', 'Air_Compressor', 'Whistle', 'Extremely_Loud', 'Koi_Fish', 'Low_Frequency_Burst', 'Light_Modulation', 'Repeating_Blips', 'Scattered_Light', 'No_Glitch', 'Chirp', 'Scratchy', 'Power_Line']\n",
      "6667\n",
      "6235\n"
     ]
    }
   ],
   "source": [
    "#get labels\n",
    "list_filename=\"gspy-db-20180813_O1_filtered_t1126400691-1205493119_snr7.5_tr_gspy.csv\"\n",
    "csv_data_dir = os.path.join(os.path.dirname(os.getcwd()),\"data\")\n",
    "csv_data_dir\n",
    "gl_df = pd.read_csv(os.path.join(csv_data_dir,list_filename))\n",
    "Y = gl_df.get('label')\n",
    "\n",
    "classes_in_use = []\n",
    "for key in LABEL_MAP:\n",
    "    classes_in_use.append(key)\n",
    "\n",
    "print(classes_in_use)\n",
    "print(len(Y))\n",
    "#for row in Y:\n",
    "k = 0\n",
    "for item in Y.iteritems():\n",
    "    if(item[1] not in classes_in_use):\n",
    "        Y = Y.drop(item[0])\n",
    "    k+=1\n",
    "        \n",
    "print(len(Y))"
   ]
  },
  {
   "cell_type": "code",
   "execution_count": null,
   "metadata": {},
   "outputs": [],
   "source": [
    "# Let's shuffle data\n",
    "#ind = np.random.permutation(rescaled_data.shape[0])\n",
    "#rescaled_data = np.take(rescaled_data, ind, axis=0)\n",
    "#labels = np.take(labels, ind)\n",
    "# Let's convert labels into one hot encoding\n",
    "onehot_encoder = OneHotEncoder(sparse=False)\n",
    "labels = labels.reshape(labels.shape[0], 1)\n",
    "targets = onehot_encoder.fit_transform(labels)"
   ]
  },
  {
   "cell_type": "code",
   "execution_count": null,
   "metadata": {},
   "outputs": [],
   "source": [
    "# Split the data for training and validation\n",
    "x_train, x_val, y_train, y_val = train_test_split(rescaled_data, targets, test_size=0.3)"
   ]
  }
 ],
 "metadata": {
  "kernelspec": {
   "display_name": "Python 3",
   "language": "python",
   "name": "python3"
  },
  "language_info": {
   "codemirror_mode": {
    "name": "ipython",
    "version": 3
   },
   "file_extension": ".py",
   "mimetype": "text/x-python",
   "name": "python",
   "nbconvert_exporter": "python",
   "pygments_lexer": "ipython3",
   "version": "3.5.3"
  }
 },
 "nbformat": 4,
 "nbformat_minor": 2
}
