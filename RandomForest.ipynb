{
 "cells": [
  {
   "cell_type": "code",
   "execution_count": 1,
   "metadata": {},
   "outputs": [],
   "source": [
    "import os\n",
    "import numpy as np\n",
    "import pandas as pd\n",
    "import sklearn.metrics as metrics\n",
    "from sklearn.ensemble import RandomForestClassifier, AdaBoostClassifier\n",
    "from sklearn.model_selection import train_test_split\n",
    "from sklearn import preprocessing\n",
    "from sklearn.model_selection import cross_val_score\n",
    "from sklearn.model_selection import KFold\n",
    "from sklearn.preprocessing import LabelEncoder\n",
    "from sklearn.pipeline import Pipeline\n",
    "from sklearn.metrics import classification_report\n",
    "\n",
    "from components.dataToolkit import dataToolkit"
   ]
  },
  {
   "cell_type": "code",
   "execution_count": 2,
   "metadata": {},
   "outputs": [],
   "source": [
    "list_filename=\"gspy-db-20180813_O1_filtered_t1126400691-1205493119_snr7.5_tr_gspy.csv\""
   ]
  },
  {
   "cell_type": "code",
   "execution_count": 3,
   "metadata": {},
   "outputs": [
    {
     "data": {
      "text/plain": [
       "'/notebooks/data'"
      ]
     },
     "execution_count": 3,
     "metadata": {},
     "output_type": "execute_result"
    }
   ],
   "source": [
    "data_dir = os.path.join(os.path.dirname(os.getcwd()),\"data\")\n",
    "data_dir"
   ]
  },
  {
   "cell_type": "code",
   "execution_count": 4,
   "metadata": {},
   "outputs": [
    {
     "data": {
      "text/html": [
       "<div>\n",
       "<style scoped>\n",
       "    .dataframe tbody tr th:only-of-type {\n",
       "        vertical-align: middle;\n",
       "    }\n",
       "\n",
       "    .dataframe tbody tr th {\n",
       "        vertical-align: top;\n",
       "    }\n",
       "\n",
       "    .dataframe thead th {\n",
       "        text-align: right;\n",
       "    }\n",
       "</style>\n",
       "<table border=\"1\" class=\"dataframe\">\n",
       "  <thead>\n",
       "    <tr style=\"text-align: right;\">\n",
       "      <th></th>\n",
       "      <th>GPStime</th>\n",
       "      <th>peakFreq</th>\n",
       "      <th>snr</th>\n",
       "      <th>centralFreq</th>\n",
       "      <th>duration</th>\n",
       "      <th>bandwidth</th>\n",
       "    </tr>\n",
       "  </thead>\n",
       "  <tbody>\n",
       "    <tr>\n",
       "      <th>count</th>\n",
       "      <td>6.667000e+03</td>\n",
       "      <td>6667.000000</td>\n",
       "      <td>6667.000000</td>\n",
       "      <td>6667.000000</td>\n",
       "      <td>6667.000000</td>\n",
       "      <td>6667.000000</td>\n",
       "    </tr>\n",
       "    <tr>\n",
       "      <th>mean</th>\n",
       "      <td>1.131870e+09</td>\n",
       "      <td>204.124335</td>\n",
       "      <td>192.144943</td>\n",
       "      <td>1529.353582</td>\n",
       "      <td>1.779605</td>\n",
       "      <td>2941.086955</td>\n",
       "    </tr>\n",
       "    <tr>\n",
       "      <th>std</th>\n",
       "      <td>3.165652e+06</td>\n",
       "      <td>374.454670</td>\n",
       "      <td>1589.944713</td>\n",
       "      <td>1320.377343</td>\n",
       "      <td>2.672461</td>\n",
       "      <td>2664.103210</td>\n",
       "    </tr>\n",
       "    <tr>\n",
       "      <th>min</th>\n",
       "      <td>1.126403e+09</td>\n",
       "      <td>10.072000</td>\n",
       "      <td>7.501000</td>\n",
       "      <td>9.780000</td>\n",
       "      <td>0.007000</td>\n",
       "      <td>1.259180</td>\n",
       "    </tr>\n",
       "    <tr>\n",
       "      <th>25%</th>\n",
       "      <td>1.128905e+09</td>\n",
       "      <td>34.175000</td>\n",
       "      <td>10.337000</td>\n",
       "      <td>255.412000</td>\n",
       "      <td>0.227000</td>\n",
       "      <td>423.261902</td>\n",
       "    </tr>\n",
       "    <tr>\n",
       "      <th>50%</th>\n",
       "      <td>1.132168e+09</td>\n",
       "      <td>111.128000</td>\n",
       "      <td>15.407000</td>\n",
       "      <td>1228.915000</td>\n",
       "      <td>0.766000</td>\n",
       "      <td>2320.672363</td>\n",
       "    </tr>\n",
       "    <tr>\n",
       "      <th>75%</th>\n",
       "      <td>1.134571e+09</td>\n",
       "      <td>183.495000</td>\n",
       "      <td>36.997500</td>\n",
       "      <td>2630.882000</td>\n",
       "      <td>2.144500</td>\n",
       "      <td>5228.188477</td>\n",
       "    </tr>\n",
       "    <tr>\n",
       "      <th>max</th>\n",
       "      <td>1.137250e+09</td>\n",
       "      <td>2047.106000</td>\n",
       "      <td>81178.727000</td>\n",
       "      <td>4615.132000</td>\n",
       "      <td>42.156000</td>\n",
       "      <td>7946.482910</td>\n",
       "    </tr>\n",
       "  </tbody>\n",
       "</table>\n",
       "</div>"
      ],
      "text/plain": [
       "            GPStime     peakFreq           snr  centralFreq     duration  \\\n",
       "count  6.667000e+03  6667.000000   6667.000000  6667.000000  6667.000000   \n",
       "mean   1.131870e+09   204.124335    192.144943  1529.353582     1.779605   \n",
       "std    3.165652e+06   374.454670   1589.944713  1320.377343     2.672461   \n",
       "min    1.126403e+09    10.072000      7.501000     9.780000     0.007000   \n",
       "25%    1.128905e+09    34.175000     10.337000   255.412000     0.227000   \n",
       "50%    1.132168e+09   111.128000     15.407000  1228.915000     0.766000   \n",
       "75%    1.134571e+09   183.495000     36.997500  2630.882000     2.144500   \n",
       "max    1.137250e+09  2047.106000  81178.727000  4615.132000    42.156000   \n",
       "\n",
       "         bandwidth  \n",
       "count  6667.000000  \n",
       "mean   2941.086955  \n",
       "std    2664.103210  \n",
       "min       1.259180  \n",
       "25%     423.261902  \n",
       "50%    2320.672363  \n",
       "75%    5228.188477  \n",
       "max    7946.482910  "
      ]
     },
     "execution_count": 4,
     "metadata": {},
     "output_type": "execute_result"
    }
   ],
   "source": [
    "gl_df = pd.read_csv(os.path.join(data_dir,list_filename))\n",
    "gl_df.describe()"
   ]
  },
  {
   "cell_type": "code",
   "execution_count": 5,
   "metadata": {},
   "outputs": [
    {
     "data": {
      "text/plain": [
       "(6667, 9)"
      ]
     },
     "execution_count": 5,
     "metadata": {},
     "output_type": "execute_result"
    }
   ],
   "source": [
    "gl_df.shape"
   ]
  },
  {
   "cell_type": "code",
   "execution_count": 6,
   "metadata": {},
   "outputs": [
    {
     "name": "stderr",
     "output_type": "stream",
     "text": [
      "/usr/local/lib/python3.5/site-packages/pandas/core/indexing.py:362: SettingWithCopyWarning: \n",
      "A value is trying to be set on a copy of a slice from a DataFrame.\n",
      "Try using .loc[row_indexer,col_indexer] = value instead\n",
      "\n",
      "See the caveats in the documentation: http://pandas.pydata.org/pandas-docs/stable/indexing.html#indexing-view-versus-copy\n",
      "  self.obj[key] = _infer_fill_value(value)\n",
      "/usr/local/lib/python3.5/site-packages/pandas/core/indexing.py:630: SettingWithCopyWarning: \n",
      "A value is trying to be set on a copy of a slice from a DataFrame.\n",
      "Try using .loc[row_indexer,col_indexer] = value instead\n",
      "\n",
      "See the caveats in the documentation: http://pandas.pydata.org/pandas-docs/stable/indexing.html#indexing-view-versus-copy\n",
      "  self.obj[item_labels[indexer[info_axis]]] = value\n"
     ]
    },
    {
     "name": "stdout",
     "output_type": "stream",
     "text": [
      "X : \n",
      "GPStime        6667\n",
      "peakFreq       6667\n",
      "snr            6667\n",
      "centralFreq    6667\n",
      "duration       6667\n",
      "bandwidth      6667\n",
      "cAmean         6667\n",
      "cD3mean        6667\n",
      "dtype: int64\n",
      "\n",
      "Y: \n",
      "6667\n",
      "\n",
      "Distinct classes : 22\n",
      "\n",
      "Y_num_labels :  6667\n"
     ]
    }
   ],
   "source": [
    "#X = gl_df.get(['GPStime','peakFreq','snr','amplitude','centralFreq','duration','bandwidth','chisq','chisqDof','confidence'])\n",
    "X = gl_df.get(['GPStime','peakFreq', 'snr', 'centralFreq', 'duration', 'bandwidth'])\n",
    "Y = gl_df.get('label')\n",
    "\n",
    "dtk = dataToolkit()\n",
    "cAmean, cD3mean, cD2mean, cD1mean = dtk.getExtraFeatures()\n",
    "dtk.close()\n",
    "\n",
    "X.loc[:,'cAmean'] = pd.Series(cAmean, index=X.index)\n",
    "X.loc[:,'cD3mean'] = pd.Series(cD3mean, index=X.index)\n",
    "\n",
    "#X.fillna(X.mean(), inplace=True)\n",
    "\n",
    "print('X : ')\n",
    "print(X.count())\n",
    "print()\n",
    "print('Y: ')\n",
    "print(Y.count())\n",
    "\n",
    "Y_num = pd.factorize(Y)\n",
    "Y_num_labels = Y_num[0]\n",
    "Y_count_labels = Y_num[1].size\n",
    "\n",
    "print()\n",
    "print('Distinct classes :', Y_count_labels)\n",
    "print()\n",
    "print('Y_num_labels : ', Y_num_labels.size)"
   ]
  },
  {
   "cell_type": "code",
   "execution_count": 7,
   "metadata": {},
   "outputs": [],
   "source": [
    "seed = 7\n",
    "test_size = 0.33\n",
    "X_train, X_test, Y_train, Y_test = train_test_split(X, Y_num_labels, test_size=test_size, random_state=seed, stratify=Y)"
   ]
  },
  {
   "cell_type": "code",
   "execution_count": 8,
   "metadata": {},
   "outputs": [
    {
     "name": "stdout",
     "output_type": "stream",
     "text": [
      "X_train : \n",
      "GPStime        4466\n",
      "peakFreq       4466\n",
      "snr            4466\n",
      "centralFreq    4466\n",
      "duration       4466\n",
      "bandwidth      4466\n",
      "cAmean         4466\n",
      "cD3mean        4466\n",
      "dtype: int64\n",
      "\n",
      "Y_train: \n",
      "4466\n",
      "\n",
      "X_test: \n",
      "GPStime        2201\n",
      "peakFreq       2201\n",
      "snr            2201\n",
      "centralFreq    2201\n",
      "duration       2201\n",
      "bandwidth      2201\n",
      "cAmean         2201\n",
      "cD3mean        2201\n",
      "dtype: int64\n",
      "\n",
      "Y_test: \n",
      "2201\n"
     ]
    }
   ],
   "source": [
    "print('X_train : ')\n",
    "print(X_train.count())\n",
    "print()\n",
    "print('Y_train: ')\n",
    "print(Y_train.size)\n",
    "print()\n",
    "print('X_test: ')\n",
    "print(X_test.count())\n",
    "print()\n",
    "print('Y_test: ')\n",
    "print(Y_test.size)"
   ]
  },
  {
   "cell_type": "code",
   "execution_count": 9,
   "metadata": {},
   "outputs": [
    {
     "name": "stderr",
     "output_type": "stream",
     "text": [
      "[Parallel(n_jobs=1)]: Using backend SequentialBackend with 1 concurrent workers.\n",
      "[Parallel(n_jobs=1)]: Done 100 out of 100 | elapsed:    1.1s finished\n",
      "[Parallel(n_jobs=1)]: Using backend SequentialBackend with 1 concurrent workers.\n",
      "[Parallel(n_jobs=1)]: Done 100 out of 100 | elapsed:    0.1s finished\n"
     ]
    }
   ],
   "source": [
    "rf = RandomForestClassifier(max_depth=None, n_estimators=100, max_features=2, verbose=1)\n",
    "rf.fit(X_train, Y_train)\n",
    "rf_preds = rf.predict(X_test)"
   ]
  },
  {
   "cell_type": "code",
   "execution_count": 10,
   "metadata": {},
   "outputs": [
    {
     "data": {
      "text/plain": [
       "0.12221717401181281"
      ]
     },
     "execution_count": 10,
     "metadata": {},
     "output_type": "execute_result"
    }
   ],
   "source": [
    "error_rate_rf = np.sum(rf_preds != Y_test) / Y_test.size\n",
    "error_rate_rf"
   ]
  },
  {
   "cell_type": "code",
   "execution_count": 11,
   "metadata": {},
   "outputs": [
    {
     "data": {
      "text/plain": [
       "array([0.12497417, 0.26506372, 0.18639142, 0.08875672,\n",
       "       0.17747314, 0.08771392, 0.03525202, 0.0343749 ])"
      ]
     },
     "execution_count": 11,
     "metadata": {},
     "output_type": "execute_result"
    }
   ],
   "source": [
    "rf.feature_importances_"
   ]
  },
  {
   "cell_type": "code",
   "execution_count": 12,
   "metadata": {},
   "outputs": [
    {
     "name": "stdout",
     "output_type": "stream",
     "text": [
      "              precision    recall  f1-score   support\n",
      "\n",
      "           0       0.89      0.96      0.92       141\n",
      "           1       0.80      0.13      0.23        30\n",
      "           2       1.00      1.00      1.00        45\n",
      "           3       0.99      0.99      0.99       149\n",
      "           4       0.88      0.96      0.92        48\n",
      "           5       0.91      0.90      0.90        89\n",
      "           6       0.99      0.96      0.97        89\n",
      "           7       0.74      0.66      0.70       132\n",
      "           8       0.83      0.71      0.77         7\n",
      "           9       0.77      0.85      0.81       174\n",
      "          10       0.90      0.93      0.92       234\n",
      "          11       0.86      0.80      0.83       163\n",
      "          12       0.90      0.96      0.93       582\n",
      "          13       1.00      1.00      1.00        27\n",
      "          14       0.88      0.75      0.81        20\n",
      "          15       0.89      0.89      0.89       148\n",
      "          16       0.67      0.44      0.53        50\n",
      "          17       1.00      0.78      0.88         9\n",
      "          18       0.72      0.94      0.82        31\n",
      "          19       1.00      0.95      0.97        19\n",
      "          20       0.86      0.46      0.60        13\n",
      "          21       0.00      0.00      0.00         1\n",
      "\n",
      "   micro avg       0.88      0.88      0.88      2201\n",
      "   macro avg       0.84      0.77      0.79      2201\n",
      "weighted avg       0.88      0.88      0.88      2201\n",
      "\n"
     ]
    },
    {
     "name": "stderr",
     "output_type": "stream",
     "text": [
      "/usr/local/lib/python3.5/site-packages/sklearn/metrics/classification.py:1143: UndefinedMetricWarning: Precision and F-score are ill-defined and being set to 0.0 in labels with no predicted samples.\n",
      "  'precision', 'predicted', average, warn_for)\n"
     ]
    }
   ],
   "source": [
    "print(classification_report(Y_test, rf_preds))"
   ]
  },
  {
   "cell_type": "code",
   "execution_count": 15,
   "metadata": {},
   "outputs": [
    {
     "data": {
      "text/plain": [
       "0       9.121110e-23\n",
       "1       6.817579e-24\n",
       "2       1.343891e-23\n",
       "3       4.636141e-23\n",
       "4      -7.044793e-23\n",
       "5      -1.280729e-22\n",
       "6       1.473982e-23\n",
       "7       2.479176e-23\n",
       "8       4.038468e-23\n",
       "9       5.700009e-23\n",
       "10      1.078155e-22\n",
       "11     -8.559324e-23\n",
       "12     -9.359010e-23\n",
       "13      6.021650e-23\n",
       "14     -9.581370e-23\n",
       "15     -8.027903e-23\n",
       "16      1.745142e-23\n",
       "17      2.654983e-23\n",
       "18      9.001840e-23\n",
       "19      4.671199e-23\n",
       "20      1.307739e-22\n",
       "21      1.761694e-23\n",
       "22     -5.494450e-23\n",
       "23      1.495215e-23\n",
       "24      1.121051e-23\n",
       "25      5.227749e-23\n",
       "26      8.213173e-23\n",
       "27     -8.816400e-23\n",
       "28     -2.627676e-23\n",
       "29      5.343343e-23\n",
       "            ...     \n",
       "6637    4.940120e-20\n",
       "6638   -3.252053e-23\n",
       "6639   -1.695959e-20\n",
       "6640   -4.255542e-20\n",
       "6641    2.525572e-21\n",
       "6642   -5.051950e-24\n",
       "6643   -5.035929e-22\n",
       "6644   -2.674454e-21\n",
       "6645   -2.933268e-20\n",
       "6646    9.080055e-20\n",
       "6647   -3.353437e-23\n",
       "6648    5.925801e-24\n",
       "6649   -5.845469e-19\n",
       "6650   -1.735833e-21\n",
       "6651   -6.900887e-24\n",
       "6652    5.776668e-24\n",
       "6653   -3.295565e-22\n",
       "6654    9.829647e-24\n",
       "6655    1.920460e-19\n",
       "6656    5.441850e-24\n",
       "6657   -4.896676e-20\n",
       "6658    3.447602e-23\n",
       "6659    9.972075e-21\n",
       "6660    1.629163e-21\n",
       "6661    2.935717e-20\n",
       "6662    2.886048e-22\n",
       "6663   -1.584762e-24\n",
       "6664   -2.742718e-22\n",
       "6665   -1.874695e-24\n",
       "6666    1.126366e-21\n",
       "Name: cDmean, Length: 6667, dtype: float64"
      ]
     },
     "execution_count": 15,
     "metadata": {},
     "output_type": "execute_result"
    }
   ],
   "source": []
  },
  {
   "cell_type": "code",
   "execution_count": null,
   "metadata": {},
   "outputs": [],
   "source": []
  }
 ],
 "metadata": {
  "kernelspec": {
   "display_name": "Python 3",
   "language": "python",
   "name": "python3"
  },
  "language_info": {
   "codemirror_mode": {
    "name": "ipython",
    "version": 3
   },
   "file_extension": ".py",
   "mimetype": "text/x-python",
   "name": "python",
   "nbconvert_exporter": "python",
   "pygments_lexer": "ipython3",
   "version": "3.5.3"
  }
 },
 "nbformat": 4,
 "nbformat_minor": 2
}
